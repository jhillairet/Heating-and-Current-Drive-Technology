{
 "cells": [
  {
   "cell_type": "markdown",
   "metadata": {},
   "source": [
    "In this notebook we explore the cold plasma dispersion relation and test a local implementation vs the one I made in PlasmaPy for testing purpose."
   ]
  },
  {
   "cell_type": "markdown",
   "metadata": {},
   "source": [
    "# The Cold Plasma Dielectric Tensor"
   ]
  },
  {
   "cell_type": "markdown",
   "metadata": {},
   "source": [
    "Let's assume a magnetized plasma where the DC magnetific field is oriented along the $z$ direction: $\\mathbf{B} = B_0 \\mathbf{\\hat{z}}$. In the cold plasma approximation, the dielectric tensor of the plasma can be written: \n",
    "\n",
    "\n",
    "\n",
    "$$\n",
    "\\mathbf{K}\n",
    "=\n",
    "\\left(\n",
    "\\begin{array}{ccc}\n",
    "S & j D & 0 \\\\\n",
    "-j D & S & 0 \\\\\n",
    "0 & 0 & P\n",
    "\\end{array}\n",
    "\\right)\n",
    "$$\n",
    "where\n",
    "$$\n",
    "\\begin{eqnarray}\n",
    "S &=& 1 - \\sum_s \\frac{\\omega_{p,s}^2}{\\omega^2 - \\Omega_{c,s}^2} \\\\\n",
    "D &=& \\sum_s \\frac{\\Omega_{c,s}}{\\omega} \\frac{\\omega_{p,s}^2}{\\omega^2 - \\Omega_{c,s}^2} \\\\\n",
    "P &=& 1 - \\sum_s \\frac{\\omega_{p,s}^2}{\\omega^2}\n",
    "\\end{eqnarray}\n",
    "$$"
   ]
  },
  {
   "cell_type": "code",
   "execution_count": 1,
   "metadata": {},
   "outputs": [],
   "source": [
    "#%matplotlib widget"
   ]
  },
  {
   "cell_type": "code",
   "execution_count": 2,
   "metadata": {},
   "outputs": [],
   "source": [
    "from scipy.constants import e, epsilon_0, pi, c, m_p"
   ]
  },
  {
   "cell_type": "code",
   "execution_count": 3,
   "metadata": {},
   "outputs": [],
   "source": [
    "import sys\n",
    "# import plasmapy, currently not in the python path\n",
    "sys.path.append('../../PlasmaPy')\n",
    "import plasmapy as pp\n",
    "import astropy.units as u \n",
    "import numpy as np\n",
    "from plasmapy.formulary import cold_plasma_permittivity_SDP\n",
    "# from plasmapy.checks import check_quantity \n",
    "from plasmapy.formulary import gyrofrequency, plasma_frequency"
   ]
  },
  {
   "cell_type": "code",
   "execution_count": 4,
   "metadata": {},
   "outputs": [],
   "source": [
    "B = 1 * u.T\n",
    "n_e = 1.7e17 * u.m**-3\n",
    "n_i = 1.7e17 * u.m**-3\n",
    "\n",
    "omega_ce = gyrofrequency(B=B, particle='e', signed=True)\n",
    "omega_ci = gyrofrequency(B=B, particle='D+', signed=True)\n",
    "omega_pe = plasma_frequency(n_e, particle='e')\n",
    "omega_pi = plasma_frequency(n_i, particle='D+')"
   ]
  },
  {
   "cell_type": "code",
   "execution_count": 5,
   "metadata": {},
   "outputs": [],
   "source": [
    "# First try. \n",
    "def cold_plasma_tensor(n_e, n_i, omega, B, ions=['D+']):\n",
    "    # electron contributions\n",
    "    omega_ce = gyrofrequency(B, particle='e', signed=True)\n",
    "    omega_pe = plasma_frequency(n_e, particle='e')\n",
    "    S = 1 - omega_pe**2 / (omega**2 - omega_ce**2) \n",
    "    D =   omega_ce/omega * omega_pe**2 / (omega**2 - omega_ce**2)\n",
    "    P = 1 - omega_pe**2 / omega**2\n",
    "    print(omega_pe**2 / omega**2)\n",
    "    # ion contributions\n",
    "    for s in ions:\n",
    "        omega_ci = gyrofrequency(B, particle=s, signed=True)\n",
    "        omega_pi = plasma_frequency(n_i, particle=s)\n",
    "        \n",
    "        S -= omega_pi**2 / (omega**2 - omega_ci**2)\n",
    "        D += omega_ci/omega * omega_pi**2 / (omega**2 - omega_ci**2)\n",
    "        P -= omega_pi**2 / omega**2\n",
    "        print(omega_ci**2 / omega**2)\n",
    "\n",
    "    return S, D, P # S,D and P has no unit (to be checked)"
   ]
  },
  {
   "cell_type": "code",
   "execution_count": 6,
   "metadata": {},
   "outputs": [],
   "source": [
    "# Same function, but shorter. Similar to PlasmaPy implementation\n",
    "def cold_plasma_tensor2(n, omega, B, species=['e', 'D+']):\n",
    "    S, D, P = 1, 0, 1 \n",
    "    for s, n_s in zip(species, n):\n",
    "        omega_c = gyrofrequency(B=B, particle=s, signed=True)\n",
    "        omega_p = plasma_frequency(n=n_s, particle=s)\n",
    "        \n",
    "        S += - omega_p ** 2 / (omega ** 2 - omega_c ** 2)\n",
    "        D += omega_c / omega * omega_p ** 2 / (omega ** 2 - omega_c ** 2)\n",
    "        P += - omega_p ** 2 / omega ** 2\n",
    "        print(omega_p**2 / omega**2)\n",
    "\n",
    "    return S, D, P # S,D and P has no unit (to be checked)"
   ]
  },
  {
   "cell_type": "code",
   "execution_count": 7,
   "metadata": {},
   "outputs": [
    {
     "name": "stdout",
     "output_type": "stream",
     "text": [
      "[1.88495559e+08 2.35619449e+08 2.82743339e+08 3.29867229e+08\n",
      " 3.76991118e+08] rad / s\n"
     ]
    }
   ],
   "source": [
    "Bs = np.array([1])*u.T\n",
    "omega_RF = np.linspace(30,60,5)*1e6*(2*np.pi)*(u.rad/u.s)\n",
    "print(omega_RF)"
   ]
  },
  {
   "cell_type": "code",
   "execution_count": 8,
   "metadata": {},
   "outputs": [
    {
     "name": "stdout",
     "output_type": "stream",
     "text": [
      "[15227.53958609  9745.6253351   6767.7953716   4972.25782403\n",
      "  3806.88489652]\n",
      "[0.06462404 0.04135939 0.0287218  0.02110173 0.01615601]\n",
      "[-3.41778273 -1.75219692 -0.88087783 -0.36637224 -0.03670337] [17.44711915 13.61897345 11.20148627  9.52654334  8.29383122] [-15230.68823355  -9747.28046947  -6768.63921491  -4972.61248442\n",
      "  -3806.92205839]\n"
     ]
    }
   ],
   "source": [
    "S, D, P = cold_plasma_tensor(n_e, n_i, omega=omega_RF, B=Bs, ions=['D+'])\n",
    "print(S, D, P)"
   ]
  },
  {
   "cell_type": "code",
   "execution_count": 9,
   "metadata": {
    "scrolled": true
   },
   "outputs": [
    {
     "name": "stdout",
     "output_type": "stream",
     "text": [
      "[15227.53958609  9745.6253351   6767.7953716   4972.25782403\n",
      "  3806.88489652]\n",
      "[4.14864746 2.65513437 1.84384331 1.35466039 1.03716186]\n",
      "[-3.41778273 -1.75219692 -0.88087783 -0.36637224 -0.03670337] [17.44711915 13.61897345 11.20148627  9.52654334  8.29383122] [-15230.68823355  -9747.28046947  -6768.63921491  -4972.61248442\n",
      "  -3806.92205839]\n"
     ]
    }
   ],
   "source": [
    "S, D, P = cold_plasma_tensor2(n=[n_e, n_i], omega=omega_RF, B=Bs, species=['e', 'D+'])\n",
    "print(S, D, P)"
   ]
  },
  {
   "cell_type": "code",
   "execution_count": 10,
   "metadata": {},
   "outputs": [],
   "source": [
    "S_, D_, P_ = cold_plasma_permittivity_SDP(B=Bs, species=['e', 'D+'], n=[n_e, n_i], omega=omega_RF)"
   ]
  },
  {
   "cell_type": "code",
   "execution_count": 11,
   "metadata": {},
   "outputs": [
    {
     "data": {
      "text/plain": [
       "array([ True,  True,  True,  True,  True])"
      ]
     },
     "execution_count": 11,
     "metadata": {},
     "output_type": "execute_result"
    }
   ],
   "source": [
    "np.isclose(S, S_)"
   ]
  },
  {
   "cell_type": "code",
   "execution_count": 12,
   "metadata": {},
   "outputs": [
    {
     "data": {
      "text/plain": [
       "array([ True,  True,  True,  True,  True])"
      ]
     },
     "execution_count": 12,
     "metadata": {},
     "output_type": "execute_result"
    }
   ],
   "source": [
    "np.isclose(D, D_)"
   ]
  },
  {
   "cell_type": "code",
   "execution_count": 13,
   "metadata": {},
   "outputs": [
    {
     "data": {
      "text/plain": [
       "array([ True,  True,  True,  True,  True])"
      ]
     },
     "execution_count": 13,
     "metadata": {},
     "output_type": "execute_result"
    }
   ],
   "source": [
    "np.isclose(P, P_)"
   ]
  },
  {
   "cell_type": "code",
   "execution_count": 14,
   "metadata": {},
   "outputs": [
    {
     "name": "stdout",
     "output_type": "stream",
     "text": [
      "Using matplotlib backend: Qt5Agg\n",
      "Populating the interactive namespace from numpy and matplotlib\n",
      "Warning: Cannot change to a different GUI toolkit: widget. Using qt instead.\n"
     ]
    },
    {
     "name": "stderr",
     "output_type": "stream",
     "text": [
      "C:\\Users\\JH218595\\AppData\\Local\\Continuum\\anaconda3\\lib\\site-packages\\IPython\\core\\magics\\pylab.py:160: UserWarning: pylab import has clobbered these variables: ['pi', 'e']\n",
      "`%matplotlib` prevents importing * from pylab and numpy\n",
      "  \"\\n`%matplotlib` prevents importing * from pylab and numpy\"\n"
     ]
    }
   ],
   "source": [
    "%pylab\n",
    "%matplotlib widget"
   ]
  },
  {
   "cell_type": "code",
   "execution_count": 15,
   "metadata": {},
   "outputs": [],
   "source": [
    "from scipy.constants import epsilon_0, electron_mass, elementary_charge, physical_constants"
   ]
  },
  {
   "cell_type": "markdown",
   "metadata": {},
   "source": [
    "# The Dispersion Relation\n",
    "The _dispersion relation_ is the function that relates the frequency $\\omega$ and the wavevector $k$. It characterizes each wave type and leads to the labels for the various type.\n"
   ]
  },
  {
   "cell_type": "markdown",
   "metadata": {},
   "source": [
    " - CMA diagram\n",
    " - phase velocity vs normalized frequency\n",
    " - normalized or not\n",
    " - density\n",
    " - angle\n",
    " - field strength\n",
    " \n",
    " - transverse motions of the electrons on cyclotron resonance sec.2.9.3"
   ]
  },
  {
   "cell_type": "markdown",
   "metadata": {},
   "source": [
    "The plasma pulsation is :\n",
    "$$\n",
    "\\omega_{p_s} = \\sqrt{\\frac{n_s q_s^2}{m_s \\varepsilon_0}}\n",
    "$$"
   ]
  },
  {
   "cell_type": "code",
   "execution_count": 16,
   "metadata": {},
   "outputs": [],
   "source": [
    "def plasma_frequency(n, q, m):\n",
    "    '''\n",
    "    Returns the plasma angular frequency for a given species.\n",
    "    '''\n",
    "    omega_p = sqrt(n*q**2/(m*epsilon_0))\n",
    "    return omega_p\n",
    "\n",
    "def cyclotron_frequency(q, m, B0):\n",
    "    '''\n",
    "    Returns the cyclotron angular frequency for a given species.\n",
    "    '''\n",
    "    omega_c = np.abs(q)*B0/m\n",
    "    return omega_c"
   ]
  },
  {
   "cell_type": "markdown",
   "metadata": {},
   "source": [
    "Let's define a convenient object: a particle species."
   ]
  },
  {
   "cell_type": "code",
   "execution_count": 17,
   "metadata": {},
   "outputs": [],
   "source": [
    "class Species:\n",
    "    def __init__(self, m, q, description=None):\n",
    "        self.m = m\n",
    "        self.q = q\n",
    "        self.description = description\n",
    "    def omega_p(self, n):\n",
    "        return plasma_frequency(n, self.q, self.m)\n",
    "    def omega_c(self, B0):\n",
    "        return cyclotron_frequency(self.q, self.m, B0)\n",
    "    def __repr__(self):\n",
    "        return 'Specie:{}. Mass:{} kg, charge:{} C'.format(self.description, self.m, self.q)"
   ]
  },
  {
   "cell_type": "code",
   "execution_count": 18,
   "metadata": {},
   "outputs": [
    {
     "name": "stdout",
     "output_type": "stream",
     "text": [
      "Specie:Electron. Mass:9.10938356e-31 kg, charge:-1.6021766208e-19 C\n",
      "Specie:Deuterium. Mass:3.343583719e-27 kg, charge:1.6021766208e-19 C\n"
     ]
    }
   ],
   "source": [
    "electron = Species(electron_mass, -elementary_charge, description='Electron')\n",
    "print(electron)\n",
    "\n",
    "deuterium = Species(physical_constants['deuteron mass'][0], +elementary_charge, description='Deuterium')\n",
    "print(deuterium)"
   ]
  },
  {
   "cell_type": "markdown",
   "metadata": {},
   "source": [
    "## The cold plasma tensor\n",
    "The cold plasma tensor is given by:\n",
    "$$\n",
    "\\mathbf{K} = \\left(\n",
    "\\begin{matrix}\n",
    "K_\\perp & K_\\times & 0 \\\\\n",
    "-K_\\times & K_\\perp & 0 \\\\\n",
    "0 & 0 & K_\\parallel\n",
    "\\end{matrix}\n",
    "\\right)\n",
    "$$\n",
    "with\n",
    "$$\n",
    "\\begin{array}{lcl}\n",
    "K_\\perp = S &=& 1 - \\displaystyle \\sum_k  \\frac{\\omega_{pk}^2}{\\omega^2 - \\omega_{ck}^2}\n",
    "\\\\\n",
    "i K_\\times = D &=& \\displaystyle \\sum_k \\frac{\\epsilon_k \\omega_{ck} \\omega_{pk}^2}\n",
    "{\\omega \\left( \\omega^2 - \\omega_{ck}^2\\right)}\n",
    "\\\\\n",
    "K_\\parallel = P &=& 1 - \\displaystyle \\sum_k \\frac{\\omega_{pk}^2}{\\omega^2}\n",
    "\\end{array}\n",
    "$$"
   ]
  },
  {
   "cell_type": "code",
   "execution_count": 19,
   "metadata": {},
   "outputs": [],
   "source": [
    "def K_perp(species, n, B0, f):\n",
    "    K_perp = 1\n",
    "    omega = 2*np.pi*f\n",
    "\n",
    "    for k, specie in enumerate(species):\n",
    "        K_perp -= specie.omega_p(n[k])**2 / (omega**2 - specie.omega_c(B0)**2)        \n",
    "    return K_perp\n",
    "\n",
    "def K_parallel(species, n, f):\n",
    "    K_parallel = 1\n",
    "    omega = 2*np.pi*f\n",
    "    for k,specie in enumerate(species):\n",
    "        K_parallel -= specie.omega_p(n[k])**2 / omega**2\n",
    "    return K_parallel\n",
    "\n",
    "def K_cross(species, n, B0, f):\n",
    "    K_cross = 0\n",
    "    omega = 2*np.pi*f\n",
    "\n",
    "    for k, specie in enumerate(species):\n",
    "        K_cross +=  np.sign(specie.q) * specie.omega_c(B0) * specie.omega_p(n[k])**2 / (omega*(omega**2 - specie.omega_c(B0)**2))        \n",
    "    return -1j*K_cross"
   ]
  },
  {
   "cell_type": "code",
   "execution_count": 20,
   "metadata": {},
   "outputs": [
    {
     "name": "stdout",
     "output_type": "stream",
     "text": [
      "1.0105934686511726\n",
      "-2.225533974053524\n",
      "-0.19268233325648582j\n"
     ]
    },
    {
     "data": {
      "text/plain": [
       "-1.0"
      ]
     },
     "execution_count": 20,
     "metadata": {},
     "output_type": "execute_result"
    }
   ],
   "source": [
    "plasma = (electron, deuterium)\n",
    "n_e = 1e18 # m^-3\n",
    "n_D = 1e18 # m^-3\n",
    "n = (n_e, n_D)\n",
    "B0 = 3 # T\n",
    "f = 5e9 # Hz\n",
    "print(K_perp(plasma, n, B0, f))\n",
    "print(K_parallel(plasma, n, f))\n",
    "print(K_cross(plasma, n, B0, f))\n",
    "np.sign(electron.q)"
   ]
  },
  {
   "cell_type": "code",
   "execution_count": null,
   "metadata": {},
   "outputs": [],
   "source": []
  },
  {
   "cell_type": "code",
   "execution_count": 44,
   "metadata": {},
   "outputs": [],
   "source": [
    "freqs = np.logspace(6, 11, 1001)\n",
    "plasma = (electron, deuterium)\n",
    "n_e = 1e18 # m^-3\n",
    "n_D = 1e18 # m^-3\n",
    "n = (n_e, n_D)\n",
    "B0 = 3 # T\n",
    "\n",
    "fig, ax = plt.subplots(figsize=(10,4))\n",
    "\n",
    "# # Manual way\n",
    "# ax.loglog(freqs, K_perp(plasma, n, B0, freqs), lw=2, label='S (>0)')\n",
    "# ax.loglog(freqs, - K_perp(plasma, n, B0, freqs), lw=2, label='S (<0)', color='C0', ls='--')\n",
    "# ax.loglog(freqs, 1j*K_cross(plasma, n, B0, freqs), lw=2, label='jD (>0)', color='C1')\n",
    "# ax.loglog(freqs, - 1j*K_cross(plasma, n, B0, freqs), lw=2, label='jD (<0)', color='C1', ls='--')\n",
    "# ax.loglog(freqs, K_parallel(plasma, n, freqs), lw=2, label='P (>0)', color='C2')\n",
    "# ax.loglog(freqs, - K_parallel(plasma, n, freqs), lw=2, label='P (<0)', color='C2', ls='--')\n",
    "\n",
    "# PlasmaPy\n",
    "S, D, P = cold_plasma_permittivity_SDP(B=B0*u.T, species=['e', 'D+'], n=[n_e/u.m**3, n_D/u.m**3], omega=2*pi*freqs*u.rad/u.s)\n",
    "ax.loglog(freqs, S, lw=2, label='S (>0)')\n",
    "ax.loglog(freqs, - S, lw=2, label='S (<0)', color='C0', ls='--')\n",
    "ax.loglog(freqs, D, lw=2, label='jD (>0)', color='C1')\n",
    "ax.loglog(freqs, - D, lw=2, label='jD (<0)', color='C1', ls='--')\n",
    "ax.loglog(freqs, P, lw=2, label='P (>0)', color='C2')\n",
    "ax.loglog(freqs, - P, lw=2, label='P (<0)', color='C2', ls='--')\n",
    "\n",
    "ax.set_xlabel('f [Hz]', fontsize=16)\n",
    "ax.grid(True, which='both', alpha=0.5)\n",
    "ax.legend(fontsize=14, loc='upper right', ncol=3)\n",
    "\n",
    "ax.axvline(deuterium.omega_c(B0)/(2*pi), lw=2, ls='--', color='k')\n",
    "ax.text(x=9e6, y=1e4, s='$\\Omega_{D}$', fontsize=16)\n",
    "ax.axvline(deuterium.omega_p(n_e)/(2*pi), lw=2, ls='--', color='gray')\n",
    "ax.text(x=1.7e8, y=1e2, s='$\\omega_{D}$', fontsize=16)\n",
    "ax.axvline(electron.omega_p(n_e)/(2*pi), lw=2, ls='--', color='gray')\n",
    "ax.text(x=1e10, y=1e2, s='$\\omega_{e}$', fontsize=16)\n",
    "ax.axvline(electron.omega_c(B0)/(2*pi), lw=2, ls='--', color='k')\n",
    "ax.text(x=5e10, y=1e3, s='$\\Omega_{e}$', fontsize=16)\n",
    "ax.set_xlim(1e6, 1e11)\n",
    "ax.xaxis.set_tick_params(labelsize=16)\n",
    "ax.yaxis.set_tick_params(labelsize=16)\n",
    "\n",
    "ax.axvspan(30e6, 70e6, color='C3', alpha=0.3)\n",
    "ax.text(x=35e6, y=1e3, s='ICRF', color='C3', fontsize=16)\n",
    "\n",
    "ax.axvspan(1e9, 5e9, color='C4', alpha=0.3)\n",
    "ax.text(x=1.5e9, y=1e3, s='LHRF', color='C4', fontsize=16)\n",
    "\n",
    "ax.set_title(f'n={n_e}' + r'$m^{-3}$, $B_0$' + f'={B0}T')\n",
    "\n",
    "fig.tight_layout()\n",
    "fig.savefig('SDP_vs_f_nfixed_Bfixed.png', dpi=150)"
   ]
  },
  {
   "cell_type": "markdown",
   "metadata": {},
   "source": [
    "# Solving the Dispersion Relation for a Tokamak"
   ]
  },
  {
   "cell_type": "code",
   "execution_count": 22,
   "metadata": {},
   "outputs": [],
   "source": [
    "def solve_dispersion_relation(n, B, f=50e6, n_parallel=2):\n",
    "    n_perps = []\n",
    "        \n",
    "    for _n, _B in zip(n,B):\n",
    "\n",
    "        S, D, P = cold_plasma_permittivity_SDP(\n",
    "                                                B=_B*u.T, \n",
    "                                               species=['e', 'D+'], \n",
    "                                               n=[_n/u.m**3, _n/u.m**3], \n",
    "                                               omega=2*pi*f*u.rad/u.s)\n",
    "        S = S.value\n",
    "        D = D.value\n",
    "        P = P.value\n",
    "        \n",
    "        A = S\n",
    "        B = -((S - n_parallel**2)*(S+P) - D**2)\n",
    "        C = P*((S - n_parallel**2)**2 - D**2)\n",
    "        p = (A,B,C)\n",
    "        \n",
    "        n_perp = np.roots(p)\n",
    "    \n",
    "        n_perps.append(n_perp)\n",
    "    \n",
    "    return np.array(n_perps)\n",
    "\n",
    "\n",
    "def solve_dispersion_relation_ICRF(n, B, f=50e6, n_parallel=2):\n",
    "    n_perps = []\n",
    "        \n",
    "    for _n, _B in zip(n,B):\n",
    "\n",
    "        S, D, P = cold_plasma_permittivity_SDP(\n",
    "                                                B=_B*u.T, \n",
    "                                               species=['e', 'D+'], \n",
    "                                               n=[_n/u.m**3, _n/u.m**3], \n",
    "                                               omega=2*pi*f*u.rad/u.s)\n",
    "        S = S.value\n",
    "        D = D.value\n",
    "        P = P.value\n",
    "        R = S + D\n",
    "        L = S - D \n",
    "        \n",
    "        n_perp_squared_FW = (R - n_parallel**2)*(L - n_parallel**2)/(S - n_parallel**2)\n",
    "        n_perp_squared_SW = P*(1 - n_parallel**2/S)\n",
    "        n_perps.append([n_perp_squared_SW, n_perp_squared_FW])\n",
    "    \n",
    "    return np.array(n_perps)\n",
    "\n",
    "def solve_dispersion_relation_LHRF(n, B, f=3.7e9, n_parallel=2):\n",
    "    n_perps = []\n",
    "        \n",
    "    for _n, _B in zip(n,B):\n",
    "\n",
    "        S, D, P = cold_plasma_permittivity_SDP(\n",
    "                                                B=_B*u.T, \n",
    "                                               species=['e', 'D+'], \n",
    "                                               n=[_n/u.m**3, _n/u.m**3], \n",
    "                                               omega=2*pi*f*u.rad/u.s)\n",
    "        S = S.value\n",
    "        D = D.value\n",
    "        P = P.value\n",
    "        \n",
    "        n_perp_squared_FW =  (S - n_parallel**2)\n",
    "        n_perp_squared_SW = P/S*(S - n_parallel**2)\n",
    "        n_perps.append([n_perp_squared_SW, n_perp_squared_FW])\n",
    "    \n",
    "    return np.array(n_perps)"
   ]
  },
  {
   "cell_type": "code",
   "execution_count": 23,
   "metadata": {},
   "outputs": [],
   "source": [
    "def density_profile(rho, n_avg=1e19, nu_n=-2):\n",
    "    \"\"\"\n",
    "    rho = 0 at magnetic axis and =1 at outer plasma surface\n",
    "    n_avg is volume averaged density\n",
    "    nu_n : peaking factors\n",
    "    \"\"\"\n",
    "    return n_avg*(1 + rho**2)**nu_n\n",
    "\n",
    "def B_profile(R, B0=3.7, R0=2.5):\n",
    "    return B0*R0/R"
   ]
  },
  {
   "cell_type": "markdown",
   "metadata": {},
   "source": [
    "# Radial Scan"
   ]
  },
  {
   "cell_type": "code",
   "execution_count": 24,
   "metadata": {},
   "outputs": [],
   "source": [
    "R0 = 2.5  # m\n",
    "a = 0.5  # m\n",
    "rho = np.linspace(0.8,1.0, 101)\n",
    "R = R0 + rho*a\n",
    "ne = density_profile(rho)\n",
    "B = B_profile(R)\n",
    "\n",
    "n_perp_square = np.array(solve_dispersion_relation(ne, B, f=50e6))\n",
    "\n",
    "R_SOL = R0 + a*np.linspace(1,1.3, 201)\n",
    "ne_SOL = ne[-1] * np.exp( - (R_SOL - (R0+a))/0.1)\n",
    "B_SOL = B_profile(R_SOL)\n",
    "n_perp_square_SOL = solve_dispersion_relation(ne_SOL, B_SOL, f=55e6, n_parallel=7)\n"
   ]
  },
  {
   "cell_type": "code",
   "execution_count": 25,
   "metadata": {},
   "outputs": [],
   "source": [
    "fig, ax = plt.subplots(4, 1, sharex=True, figsize=(10,4))\n",
    "ax[0].plot(R, B, color='C0', lw=2)\n",
    "ax[0].plot(R_SOL, B_SOL, color='C0', lw=2)\n",
    "\n",
    "ax[1].plot(R, ne, color='C1', lw=2)\n",
    "ax[1].plot(R_SOL, ne_SOL, color='C1', lw=2)\n",
    "# ax[1].set_yscale('log')\n",
    "\n",
    "n_SW = n_perp_square[:,0]\n",
    "n_FW = n_perp_square[:,1] \n",
    "n_SW_SOL = n_perp_square_SOL[:,0]\n",
    "n_FW_SOL = n_perp_square_SOL[:,1] \n",
    "\n",
    "ax[2].plot(R, np.sign(n_SW)*np.log(np.abs(n_SW)), color='C1' )\n",
    "ax[2].plot(R_SOL, np.sign(n_SW_SOL)*np.log(np.abs(n_SW_SOL)), color='C1')\n",
    "\n",
    "ax[3].plot(R, np.sign(n_FW)*np.log(np.abs(n_FW)), color='C2' )\n",
    "ax[3].plot(R_SOL, np.sign(n_FW_SOL)*np.log(np.abs(n_FW_SOL)), color='C2')\n",
    "\n",
    "\n",
    "ax[-1].set_xlabel('R [m]')\n",
    "ax[0].text(x=3.01, y=3.5, s='LCFS')\n",
    "ax[0].text(x=3.11, y=3.5, s='Antenna')\n",
    "\n",
    "\n",
    "fig.subplots_adjust(hspace=0)\n",
    "for _a in ax:\n",
    "    _a.axvline(R0+a, ls='--', color='gray')\n",
    "    _a.axvline(3.1, ls='--', color='gray')"
   ]
  },
  {
   "cell_type": "markdown",
   "metadata": {},
   "source": [
    "# Density Scan ICRF"
   ]
  },
  {
   "cell_type": "code",
   "execution_count": 26,
   "metadata": {},
   "outputs": [],
   "source": [
    "ne = np.logspace(16, 20, 201)"
   ]
  },
  {
   "cell_type": "code",
   "execution_count": 27,
   "metadata": {},
   "outputs": [],
   "source": [
    "B0 = 3.0\n",
    "B = np.full_like(ne, B0) \n",
    "f = 55e6\n",
    "k0 = 2*np.pi/c*f\n",
    "nz_dipole  = 9 / k0"
   ]
  },
  {
   "cell_type": "code",
   "execution_count": 28,
   "metadata": {},
   "outputs": [],
   "source": [
    "n_perp_square = solve_dispersion_relation(ne, B, f, n_parallel=5)\n",
    "n_perp_square1 = solve_dispersion_relation(ne, B, f, n_parallel=5)\n",
    "n_perp_square2 = solve_dispersion_relation(ne, B, f, n_parallel=15)\n",
    "# n_perp_square_ICRF = solve_dispersion_relation_ICRF(ne, B, f, n_parallel=nz_dipole)"
   ]
  },
  {
   "cell_type": "code",
   "execution_count": 29,
   "metadata": {},
   "outputs": [],
   "source": [
    "# cut-off density\n",
    "S,D,P = cold_plasma_permittivity_SDP(B*u.T, species=('e-', 'D+'), n=(ne/u.m**3, ne/u.m**3), omega=2*pi*f*u.rad/u.s)"
   ]
  },
  {
   "cell_type": "code",
   "execution_count": 30,
   "metadata": {},
   "outputs": [],
   "source": [
    "R = S + D\n",
    "L = S- D"
   ]
  },
  {
   "cell_type": "code",
   "execution_count": 31,
   "metadata": {},
   "outputs": [],
   "source": [
    "nc = ne[np.argmin(np.abs(5**2 - R))]"
   ]
  },
  {
   "cell_type": "code",
   "execution_count": 32,
   "metadata": {},
   "outputs": [],
   "source": [
    "fig, ax = plt.subplots(figsize=(8,4))\n",
    "ax.plot(ne[S>0],  np.abs(S[S>0]), lw=2, color='C0', label='S > 0')\n",
    "ax.plot(ne[S<0],  np.abs(S[S<0]), lw=2, color='C0', ls='--', label='S < 0')\n",
    "ax.plot(ne[D>0],  np.abs(D[D>0]), lw=2, color='C1', label='D > 0')\n",
    "ax.plot(ne[D<0],  np.abs(D[D<0]), lw=2, color='C1', ls='--', label='D < 0')\n",
    "ax.plot(ne[P>0],  np.abs(P[P>0]), lw=2, color='C2', label='P > 0')\n",
    "ax.plot(ne[P<0],  np.abs(P[P<0]), lw=2, color='C2', ls='--', label='P < 0')\n",
    "\n",
    "ax.set_xscale('log')\n",
    "ax.set_yscale('log')\n",
    "ax.set_xlabel('Electron Density $n_e$ [$m^{-3}$]', fontsize=16)\n",
    "ax.set_ylabel(r'$ \\left| X \\right|$', fontsize=16)\n",
    "# ax.plot(ne, np.log(k0*np.abs(n_perp_square_ICRF))*np.sign(n_perp_square_ICRF))\n",
    "ax.legend( fontsize=14, ncol=3, loc='upper right')\n",
    "ax.grid(True, which='both', alpha=0.5)\n",
    "ax.tick_params(axis='both', which='major', labelsize=16)\n",
    "ax.set_xlim(1e20, 1e16)\n",
    "\n",
    "ax.text(5e19, 0.10, 'core plasma')\n",
    "ax.text(2.5e18, 0.10, 'edge plasma')\n",
    "ax.text(0.5e17, 0.10, 'SOL')\n",
    "\n",
    "\n",
    "fig.tight_layout()\n",
    "fig.savefig('IC_SDP.png', dpi=150)"
   ]
  },
  {
   "cell_type": "code",
   "execution_count": 33,
   "metadata": {},
   "outputs": [],
   "source": [
    "fig, ax = plt.subplots(figsize=(8,4))\n",
    "\n",
    "ax.fill_between(ne, np.log(np.abs(n_perp_square1[:,0]))*np.sign(n_perp_square1[:,0]), \n",
    "                              np.log(np.abs(n_perp_square2[:,0]))*np.sign(n_perp_square2[:,0]), alpha=0.5, color='C0')\n",
    "ax.fill_between(ne, np.log(np.abs(n_perp_square1[:,1]))*np.sign(n_perp_square1[:,1]), \n",
    "                              np.log(np.abs(n_perp_square2[:,1]))*np.sign(n_perp_square2[:,1]), alpha=0.5, color='C1')\n",
    "\n",
    "ax.plot(ne, np.log(np.abs(n_perp_square1[:,0]))*np.sign(n_perp_square1[:,0]), lw=3, color='lightblue')\n",
    "ax.plot(ne, np.log(np.abs(n_perp_square1[:,1]))*np.sign(n_perp_square1[:,1]), lw=3, color='lightcoral')\n",
    "ax.plot(ne, np.log(np.abs(n_perp_square2[:,0]))*np.sign(n_perp_square2[:,0]), lw=3, color='darkblue')\n",
    "ax.plot(ne, np.log(np.abs(n_perp_square2[:,1]))*np.sign(n_perp_square2[:,1]), lw=3, color='darkred')\n",
    "\n",
    "\n",
    "# n_S = n_perp_square[:,0]\n",
    "# n_F = n_perp_square[:,1]\n",
    "\n",
    "# ax.fill_between(ne, np.abs(n_perp_square1[:,0]), \n",
    "#                               np.abs(n_perp_square2[:,0]), alpha=0.5, color='C0' ) \n",
    "# ax.fill_between(ne, np.abs(n_perp_square1[:,1]), \n",
    "#                               np.abs(n_perp_square2[:,1]), alpha=0.5, color='C1' ) \n",
    "\n",
    "# ax.plot(ne[n_S>0], (np.abs(n_S[n_S>0])), lw=3, color='C0', label=r'$n_{\\perp,S}^2$ ($>0$)')\n",
    "# ax.plot(ne[n_S<0], (np.abs(n_S[n_S<0])), lw=3, ls='--', color='C0', label=r'$n_{\\perp,S}^2$ ($<0$)')\n",
    "\n",
    "# ax.plot(ne[n_F>0], (np.abs(n_F[n_F>0])), lw=3, color='C1', label=r'$n_{\\perp,F}^2$ ($>0$)')\n",
    "# ax.plot(ne[n_F<0], (np.abs(n_F[n_F<0])), lw=3, ls='--', color='C1', label=r'$n_{\\perp,F}^2$ ($<0$)')\n",
    "# ax.set_yscale('log')\n",
    "\n",
    "ax.set_xlabel('Electron Density $n_e$ [$m^{-3}$]', fontsize=16)\n",
    "ax.set_ylabel(r'$\\mathrm{sign}\\left( n^2_\\perp \\right) \\log \\left| n^2_\\perp \\right|$', fontsize=16)\n",
    "# ax.plot(ne, np.log(k0*np.abs(n_perp_square_ICRF))*np.sign(n_perp_square_ICRF))\n",
    "ax.legend(('SW', 'FW'), fontsize=16)\n",
    "ax.axhspan(-17, 0, color='gray', alpha=0.2)\n",
    "ax.set_xscale('log')\n",
    "ax.grid(True, which='both', alpha=0.5)\n",
    "ax.tick_params(axis='both', which='major', labelsize=16)\n",
    "# ax.set_ylim(-16, 16)\n",
    "ax.set_xlim(1e20, 1e16)\n",
    "\n",
    "ax.text(5e16, 3, 'Progagative')\n",
    "ax.text(5e16, -10, 'Evanescent')\n",
    "\n",
    "ax.annotate(\"$n_\\parallel=5$\", xy=(1e19, 5), xytext=(2e19, 10), arrowprops=dict(arrowstyle=\"->\", color='coral'))\n",
    "ax.annotate(\"$n_\\parallel=15$\", xy=(2e19, 1), xytext=(7e19, 1), arrowprops=dict(arrowstyle=\"->\", color='darkred'))\n",
    "\n",
    "ax.annotate(\"$n_\\parallel=5$\", xy=(1e18, -12), xytext=(3e17, -8), arrowprops=dict(arrowstyle=\"->\", color='blue'))\n",
    "ax.annotate(\"$n_\\parallel=15$\", xy=(2e18, -13.5), xytext=(1e19, -8), arrowprops=dict(arrowstyle=\"->\", color='darkblue'))\n",
    "\n",
    "ax.text(5e19, 20, 'core plasma')\n",
    "ax.text(2.5e18, 20, 'edge plasma')\n",
    "ax.text(1e17, 20, 'SOL')\n",
    "\n",
    "#ax.axvline(nc)\n",
    "\n",
    "fig.tight_layout()\n",
    "fig.savefig('n_perp_square_vs_ne_ICRF.png', dpi=150)"
   ]
  },
  {
   "cell_type": "markdown",
   "metadata": {},
   "source": [
    "# Density Scan LHRF"
   ]
  },
  {
   "cell_type": "code",
   "execution_count": 34,
   "metadata": {},
   "outputs": [],
   "source": [
    "ne = np.logspace(16, 19.5, 301)"
   ]
  },
  {
   "cell_type": "code",
   "execution_count": 35,
   "metadata": {},
   "outputs": [],
   "source": [
    "B0 = 3\n",
    "B = np.full_like(ne, B0) \n",
    "f = 3.7e9\n",
    "k0 = 2*np.pi/c*f"
   ]
  },
  {
   "cell_type": "code",
   "execution_count": 36,
   "metadata": {},
   "outputs": [],
   "source": [
    "# cut-off density\n",
    "S,D,P = cold_plasma_permittivity_SDP(B*u.T, species=('e-', 'D+'), n=(ne/u.m**3, ne/u.m**3), omega=2*pi*f*u.rad/u.s)"
   ]
  },
  {
   "cell_type": "code",
   "execution_count": 37,
   "metadata": {},
   "outputs": [],
   "source": [
    "fig, ax = plt.subplots(figsize=(8,4))\n",
    "ax.plot(ne[S>0],  np.abs(S[S>0]), lw=2, color='C0', label='S > 0')\n",
    "ax.plot(ne[S<0],  np.abs(S[S<0]), lw=2, color='C0', ls='--', label='S < 0')\n",
    "ax.plot(ne[D>0],  np.abs(D[D>0]), lw=2, color='C1', label='D > 0')\n",
    "ax.plot(ne[D<0],  np.abs(D[D<0]), lw=2, color='C1', ls='--', label='D < 0')\n",
    "ax.plot(ne[P>0],  np.abs(P[P>0]), lw=2, color='C2', label='P > 0')\n",
    "ax.plot(ne[P<0],  np.abs(P[P<0]), lw=2, color='C2', ls='--', label='P < 0')\n",
    "\n",
    "ax.set_xscale('log')\n",
    "ax.set_yscale('log')\n",
    "ax.set_xlabel('Electron Density $n_e$ [$m^{-3}$]', fontsize=16)\n",
    "ax.set_ylabel(r'$ \\left| X \\right|$', fontsize=16)\n",
    "# ax.plot(ne, np.log(k0*np.abs(n_perp_square_ICRF))*np.sign(n_perp_square_ICRF))\n",
    "ax.legend( fontsize=14, ncol=3, loc='upper right')\n",
    "ax.grid(True, which='both', alpha=0.5)\n",
    "ax.tick_params(axis='both', which='major', labelsize=16)\n",
    "ax.set_xlim(1e20, 1e16)\n",
    "\n",
    "ax.text(5e19, 0.0050, 'core plasma')\n",
    "ax.text(2.5e18, 0.0050, 'edge plasma')\n",
    "ax.text(0.5e17, 0.0050, 'SOL')\n",
    "\n",
    "\n",
    "fig.tight_layout()\n",
    "fig.savefig('LH_SDP.png', dpi=150)"
   ]
  },
  {
   "cell_type": "code",
   "execution_count": 38,
   "metadata": {},
   "outputs": [],
   "source": [
    "n_perp_square = solve_dispersion_relation(ne, B, f, n_parallel=2)\n",
    "n_perp_square_LHRF = solve_dispersion_relation_LHRF(ne, B, f, n_parallel=2)"
   ]
  },
  {
   "cell_type": "code",
   "execution_count": 39,
   "metadata": {},
   "outputs": [],
   "source": [
    "fig, ax = plt.subplots(figsize=(8,4))\n",
    "\n",
    "\n",
    "n_S = n_perp_square_LHRF[:,0]\n",
    "n_F = n_perp_square_LHRF[:,1]\n",
    "\n",
    "# ax.plot(ne, np.log(np.abs(n_perp_square1[:,0]))*np.sign(n_perp_square1[:,0]), lw=3, color='lightblue')\n",
    "# ax.plot(ne, np.log(np.abs(n_perp_square1[:,1]))*np.sign(n_perp_square1[:,1]), lw=3, color='lightcoral')\n",
    "# ax.plot(ne, np.log(np.abs(n_perp_square2[:,0]))*np.sign(n_perp_square2[:,0]), lw=3, color='darkblue')\n",
    "# ax.plot(ne, np.log(np.abs(n_perp_square2[:,1]))*np.sign(n_perp_square2[:,1]), lw=3, color='darkred')\n",
    "# ax.plot(ne, np.log(np.abs(n_perp_square))*np.sign(n_perp_square), lw=3)\n",
    "# ax.plot(ne, np.sign(n_perp_square_LHRF)*np.log(np.abs(n_perp_square_LHRF)), lw=3, ls='-')\n",
    "\n",
    "ax.plot(ne[n_S>0], (np.abs(n_S[n_S>0])), lw=3, color='C0', label=r'$n_{\\perp,S}^2$ ($>0$)')\n",
    "ax.plot(ne[n_S<0], (np.abs(n_S[n_S<0])), lw=3, ls='--', color='C0', label=r'$n_{\\perp,S}^2$ ($<0$)')\n",
    "\n",
    "ax.plot(ne[n_F>0], (np.abs(n_F[n_F>0])), lw=3, color='C1', label=r'$n_{\\perp,F}^2$ ($>0$)')\n",
    "ax.plot(ne[n_F<0], (np.abs(n_F[n_F<0])), lw=3, ls='--', color='C1', label=r'$n_{\\perp,F}^2$ ($<0$)')\n",
    "\n",
    "ax.set_xlabel('Electron Density $n_e$ [$m^{-3}$]', fontsize=16)\n",
    "# ax.set_ylabel(r'$\\mathrm{sign}\\left( n^2_\\perp \\right) \\log \\left| n^2_\\perp \\right|$', fontsize=16)\n",
    "ax.set_ylabel(r'$ \\left| n^2_\\perp \\right|$', fontsize=16)\n",
    "# ax.plot(ne, np.log(k0*np.abs(n_perp_square_ICRF))*np.sign(n_perp_square_ICRF))\n",
    "ax.legend(fontsize=14, ncol=2, loc='upper right')\n",
    "# ax.axhspan(-17, 0, color='gray', alpha=0.2)\n",
    "ax.set_xscale('log')\n",
    "ax.grid(True, which='both', alpha=0.5)\n",
    "ax.tick_params(axis='both', which='major', labelsize=16)\n",
    "# ax.set_ylim(-3, 5)\n",
    "ax.set_xlim(3e19, 1e16)\n",
    "\n",
    "# ax.text(5e16, 1, 'Progagative')\n",
    "# ax.text(5e16, -1, 'Evanescent')\n",
    "\n",
    "# ax.annotate(\"$n_\\parallel=5$\", xy=(1e19, 5), xytext=(2e19, 10), arrowprops=dict(arrowstyle=\"->\", color='coral'))\n",
    "# ax.annotate(\"$n_\\parallel=15$\", xy=(2e19, 1), xytext=(7e19, 1), arrowprops=dict(arrowstyle=\"->\", color='darkred'))\n",
    "\n",
    "# ax.annotate(\"$n_\\parallel=5$\", xy=(1e18, -12), xytext=(3e17, -8), arrowprops=dict(arrowstyle=\"->\", color='blue'))\n",
    "# ax.annotate(\"$n_\\parallel=15$\", xy=(2e18, -13.5), xytext=(1e19, -8), arrowprops=dict(arrowstyle=\"->\", color='darkblue'))\n",
    "ax.set_yscale('log')\n",
    "ax.text(3e19, 0.05, 'core plasma')\n",
    "ax.text(2.5e18, 0.05, 'edge plasma')\n",
    "ax.text(1e17, 0.05, 'SOL')\n",
    "\n",
    "ax.axvline(0.0124*3.7e9**2, color='gray', ls='--')\n",
    "ax.annotate(\"$n_c$\", xy=(1.7e17, 10), xytext=(1e17, 10), arrowprops=dict(arrowstyle=\"->\"))\n",
    "\n",
    "fig.tight_layout()\n",
    "fig.savefig('n_perp_square_vs_ne_LHRF.png', dpi=150)"
   ]
  },
  {
   "cell_type": "markdown",
   "metadata": {},
   "source": [
    "# References\n",
    " - Swanson, Plasma Waves, chap.2"
   ]
  },
  {
   "cell_type": "code",
   "execution_count": null,
   "metadata": {},
   "outputs": [],
   "source": []
  }
 ],
 "metadata": {
  "kernelspec": {
   "display_name": "Python 3",
   "language": "python",
   "name": "python3"
  },
  "language_info": {
   "codemirror_mode": {
    "name": "ipython",
    "version": 3
   },
   "file_extension": ".py",
   "mimetype": "text/x-python",
   "name": "python",
   "nbconvert_exporter": "python",
   "pygments_lexer": "ipython3",
   "version": "3.7.6"
  }
 },
 "nbformat": 4,
 "nbformat_minor": 4
}
